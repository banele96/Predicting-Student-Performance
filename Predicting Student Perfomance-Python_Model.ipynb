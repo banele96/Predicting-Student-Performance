{
 "cells": [
  {
   "cell_type": "markdown",
   "metadata": {},
   "source": [
    "#                  Predicting_Student_Perfomance- Banele Mahlasela"
   ]
  },
  {
   "cell_type": "markdown",
   "metadata": {},
   "source": [
    "This project is about analysing data for a Academy that wants best graduates to enrol for a course so I am helping them to  chose best candidates by building a model"
   ]
  },
  {
   "cell_type": "code",
   "execution_count": 1,
   "metadata": {},
   "outputs": [],
   "source": [
    "import pandas as pd\n",
    "import matplotlib.pyplot as plt\n",
    "import numpy as np\n",
    "import seaborn as sns\n",
    "%matplotlib inline"
   ]
  },
  {
   "cell_type": "code",
   "execution_count": 2,
   "metadata": {},
   "outputs": [],
   "source": [
    "logic=pd.read_csv('logic_and_interview.csv',index_col='id')\n",
    "pers=pd.read_csv('personalities.csv',index_col='id')\n",
    "inf=pd.read_csv('info.csv',index_col='id')\n",
    "matric=pd.read_csv('matric_results.csv',index_col='id')\n",
    "score=pd.read_csv('scores.csv',index_col='id')\n",
    "\n",
    "df2=pd.merge(logic,pers,left_index=True,right_index=True)\n",
    "df1=pd.merge(df2,inf,left_index=True,right_index=True)\n",
    "df3=pd.merge(df1,matric,left_index=True,right_index=True)\n",
    "df=pd.merge(df3,score,left_index=True,right_index=True)"
   ]
  },
  {
   "cell_type": "code",
   "execution_count": null,
   "metadata": {},
   "outputs": [],
   "source": []
  },
  {
   "cell_type": "code",
   "execution_count": 3,
   "metadata": {},
   "outputs": [
    {
     "data": {
      "text/html": [
       "<div>\n",
       "<style scoped>\n",
       "    .dataframe tbody tr th:only-of-type {\n",
       "        vertical-align: middle;\n",
       "    }\n",
       "\n",
       "    .dataframe tbody tr th {\n",
       "        vertical-align: top;\n",
       "    }\n",
       "\n",
       "    .dataframe thead th {\n",
       "        text-align: right;\n",
       "    }\n",
       "</style>\n",
       "<table border=\"1\" class=\"dataframe\">\n",
       "  <thead>\n",
       "    <tr style=\"text-align: right;\">\n",
       "      <th></th>\n",
       "      <th>Interviewer</th>\n",
       "      <th>Aptitude Score</th>\n",
       "      <th>Logic Test Score %</th>\n",
       "      <th>Interview Score</th>\n",
       "      <th>I/E</th>\n",
       "      <th>N/S</th>\n",
       "      <th>T/F</th>\n",
       "      <th>J/P</th>\n",
       "      <th>A/T</th>\n",
       "      <th>type</th>\n",
       "      <th>...</th>\n",
       "      <th>Zulu</th>\n",
       "      <th>Sotho</th>\n",
       "      <th>Swana</th>\n",
       "      <th>Venda</th>\n",
       "      <th>Xhosa</th>\n",
       "      <th>Maths</th>\n",
       "      <th>Science</th>\n",
       "      <th>Computer Applications</th>\n",
       "      <th>Province</th>\n",
       "      <th>score</th>\n",
       "    </tr>\n",
       "    <tr>\n",
       "      <th>id</th>\n",
       "      <th></th>\n",
       "      <th></th>\n",
       "      <th></th>\n",
       "      <th></th>\n",
       "      <th></th>\n",
       "      <th></th>\n",
       "      <th></th>\n",
       "      <th></th>\n",
       "      <th></th>\n",
       "      <th></th>\n",
       "      <th></th>\n",
       "      <th></th>\n",
       "      <th></th>\n",
       "      <th></th>\n",
       "      <th></th>\n",
       "      <th></th>\n",
       "      <th></th>\n",
       "      <th></th>\n",
       "      <th></th>\n",
       "      <th></th>\n",
       "      <th></th>\n",
       "    </tr>\n",
       "  </thead>\n",
       "  <tbody>\n",
       "    <tr>\n",
       "      <th>1</th>\n",
       "      <td>Dewald Botha</td>\n",
       "      <td>0.80</td>\n",
       "      <td>0.89</td>\n",
       "      <td>8.0</td>\n",
       "      <td>I</td>\n",
       "      <td>S</td>\n",
       "      <td>T</td>\n",
       "      <td>J</td>\n",
       "      <td>A</td>\n",
       "      <td>ISTJ-A</td>\n",
       "      <td>...</td>\n",
       "      <td>NaN</td>\n",
       "      <td>NaN</td>\n",
       "      <td>NaN</td>\n",
       "      <td>NaN</td>\n",
       "      <td>NaN</td>\n",
       "      <td>B</td>\n",
       "      <td>C</td>\n",
       "      <td>NaN</td>\n",
       "      <td>KZN</td>\n",
       "      <td>687</td>\n",
       "    </tr>\n",
       "    <tr>\n",
       "      <th>2</th>\n",
       "      <td>Dewald Botha</td>\n",
       "      <td>0.77</td>\n",
       "      <td>0.80</td>\n",
       "      <td>8.0</td>\n",
       "      <td>I</td>\n",
       "      <td>N</td>\n",
       "      <td>F</td>\n",
       "      <td>J</td>\n",
       "      <td>T</td>\n",
       "      <td>INFJ-T</td>\n",
       "      <td>...</td>\n",
       "      <td>NaN</td>\n",
       "      <td>NaN</td>\n",
       "      <td>NaN</td>\n",
       "      <td>NaN</td>\n",
       "      <td>NaN</td>\n",
       "      <td>E</td>\n",
       "      <td>C</td>\n",
       "      <td>NaN</td>\n",
       "      <td>CT</td>\n",
       "      <td>599</td>\n",
       "    </tr>\n",
       "    <tr>\n",
       "      <th>3</th>\n",
       "      <td>John Clur</td>\n",
       "      <td>0.87</td>\n",
       "      <td>0.75</td>\n",
       "      <td>10.0</td>\n",
       "      <td>E</td>\n",
       "      <td>N</td>\n",
       "      <td>F</td>\n",
       "      <td>J</td>\n",
       "      <td>A</td>\n",
       "      <td>ENFJ-A</td>\n",
       "      <td>...</td>\n",
       "      <td>NaN</td>\n",
       "      <td>NaN</td>\n",
       "      <td>NaN</td>\n",
       "      <td>NaN</td>\n",
       "      <td>NaN</td>\n",
       "      <td>A</td>\n",
       "      <td>C</td>\n",
       "      <td>NaN</td>\n",
       "      <td>JHB</td>\n",
       "      <td>804</td>\n",
       "    </tr>\n",
       "    <tr>\n",
       "      <th>4</th>\n",
       "      <td>Byron Roelofsz</td>\n",
       "      <td>0.73</td>\n",
       "      <td>0.90</td>\n",
       "      <td>8.0</td>\n",
       "      <td>I</td>\n",
       "      <td>N</td>\n",
       "      <td>F</td>\n",
       "      <td>J</td>\n",
       "      <td>T</td>\n",
       "      <td>INFJ-T</td>\n",
       "      <td>...</td>\n",
       "      <td>NaN</td>\n",
       "      <td>NaN</td>\n",
       "      <td>NaN</td>\n",
       "      <td>NaN</td>\n",
       "      <td>NaN</td>\n",
       "      <td>A</td>\n",
       "      <td>A</td>\n",
       "      <td>NaN</td>\n",
       "      <td>PTA</td>\n",
       "      <td>792</td>\n",
       "    </tr>\n",
       "    <tr>\n",
       "      <th>5</th>\n",
       "      <td>Dewald Botha</td>\n",
       "      <td>0.75</td>\n",
       "      <td>0.61</td>\n",
       "      <td>6.0</td>\n",
       "      <td>I</td>\n",
       "      <td>N</td>\n",
       "      <td>F</td>\n",
       "      <td>J</td>\n",
       "      <td>A</td>\n",
       "      <td>INFJ-A</td>\n",
       "      <td>...</td>\n",
       "      <td>NaN</td>\n",
       "      <td>NaN</td>\n",
       "      <td>NaN</td>\n",
       "      <td>NaN</td>\n",
       "      <td>NaN</td>\n",
       "      <td>A</td>\n",
       "      <td>B</td>\n",
       "      <td>NaN</td>\n",
       "      <td>PTA</td>\n",
       "      <td>488</td>\n",
       "    </tr>\n",
       "  </tbody>\n",
       "</table>\n",
       "<p>5 rows × 27 columns</p>\n",
       "</div>"
      ],
      "text/plain": [
       "      Interviewer   Aptitude Score  Logic Test Score %  Interview Score I/E  \\\n",
       "id                                                                            \n",
       "1     Dewald Botha            0.80                0.89              8.0   I   \n",
       "2     Dewald Botha            0.77                0.80              8.0   I   \n",
       "3        John Clur            0.87                0.75             10.0   E   \n",
       "4   Byron Roelofsz            0.73                0.90              8.0   I   \n",
       "5     Dewald Botha            0.75                0.61              6.0   I   \n",
       "\n",
       "   N/S T/F J/P A/T    type  ...   Zulu Sotho Swana Venda Xhosa Maths Science  \\\n",
       "id                          ...                                                \n",
       "1    S   T   J   A  ISTJ-A  ...    NaN   NaN   NaN   NaN   NaN     B       C   \n",
       "2    N   F   J   T  INFJ-T  ...    NaN   NaN   NaN   NaN   NaN     E       C   \n",
       "3    N   F   J   A  ENFJ-A  ...    NaN   NaN   NaN   NaN   NaN     A       C   \n",
       "4    N   F   J   T  INFJ-T  ...    NaN   NaN   NaN   NaN   NaN     A       A   \n",
       "5    N   F   J   A  INFJ-A  ...    NaN   NaN   NaN   NaN   NaN     A       B   \n",
       "\n",
       "   Computer Applications Province score  \n",
       "id                                       \n",
       "1                    NaN      KZN   687  \n",
       "2                    NaN       CT   599  \n",
       "3                    NaN      JHB   804  \n",
       "4                    NaN      PTA   792  \n",
       "5                    NaN      PTA   488  \n",
       "\n",
       "[5 rows x 27 columns]"
      ]
     },
     "execution_count": 3,
     "metadata": {},
     "output_type": "execute_result"
    }
   ],
   "source": [
    "df.head()"
   ]
  },
  {
   "cell_type": "code",
   "execution_count": 4,
   "metadata": {},
   "outputs": [],
   "source": [
    "df.to_csv('Orginal.csv')"
   ]
  },
  {
   "cell_type": "code",
   "execution_count": 5,
   "metadata": {},
   "outputs": [],
   "source": [
    "df = pd.get_dummies(df)"
   ]
  },
  {
   "cell_type": "code",
   "execution_count": 6,
   "metadata": {},
   "outputs": [
    {
     "data": {
      "text/plain": [
       "Index(['Aptitude Score', 'Logic Test Score %', 'Interview Score', 'age',\n",
       "       'score', 'Interviewer _Aidan Helmbold', 'Interviewer _Byron Roelofsz',\n",
       "       'Interviewer _Dewald Botha', 'Interviewer _John Clur',\n",
       "       'Interviewer _Nuri Barnard',\n",
       "       ...\n",
       "       'Computer Applications_A', 'Computer Applications_C', 'Province_CT',\n",
       "       'Province_DBN', 'Province_EC', 'Province_JHB', 'Province_KZN',\n",
       "       'Province_NC', 'Province_NW', 'Province_PTA'],\n",
       "      dtype='object', length=107)"
      ]
     },
     "execution_count": 6,
     "metadata": {},
     "output_type": "execute_result"
    }
   ],
   "source": [
    "df.columns"
   ]
  },
  {
   "cell_type": "code",
   "execution_count": 7,
   "metadata": {},
   "outputs": [],
   "source": [
    "#Dependent variable\n",
    "y = df['score']"
   ]
  },
  {
   "cell_type": "code",
   "execution_count": 8,
   "metadata": {},
   "outputs": [],
   "source": [
    "#independent variable\n",
    "X = df.drop('score', axis = 1)"
   ]
  },
  {
   "cell_type": "code",
   "execution_count": 9,
   "metadata": {},
   "outputs": [
    {
     "data": {
      "text/html": [
       "<div>\n",
       "<style scoped>\n",
       "    .dataframe tbody tr th:only-of-type {\n",
       "        vertical-align: middle;\n",
       "    }\n",
       "\n",
       "    .dataframe tbody tr th {\n",
       "        vertical-align: top;\n",
       "    }\n",
       "\n",
       "    .dataframe thead th {\n",
       "        text-align: right;\n",
       "    }\n",
       "</style>\n",
       "<table border=\"1\" class=\"dataframe\">\n",
       "  <thead>\n",
       "    <tr style=\"text-align: right;\">\n",
       "      <th></th>\n",
       "      <th>Aptitude Score</th>\n",
       "      <th>Logic Test Score %</th>\n",
       "      <th>Interview Score</th>\n",
       "      <th>age</th>\n",
       "      <th>score</th>\n",
       "      <th>Interviewer _Aidan Helmbold</th>\n",
       "      <th>Interviewer _Byron Roelofsz</th>\n",
       "      <th>Interviewer _Dewald Botha</th>\n",
       "      <th>Interviewer _John Clur</th>\n",
       "      <th>Interviewer _Nuri Barnard</th>\n",
       "      <th>...</th>\n",
       "      <th>Computer Applications_A</th>\n",
       "      <th>Computer Applications_C</th>\n",
       "      <th>Province_CT</th>\n",
       "      <th>Province_DBN</th>\n",
       "      <th>Province_EC</th>\n",
       "      <th>Province_JHB</th>\n",
       "      <th>Province_KZN</th>\n",
       "      <th>Province_NC</th>\n",
       "      <th>Province_NW</th>\n",
       "      <th>Province_PTA</th>\n",
       "    </tr>\n",
       "    <tr>\n",
       "      <th>id</th>\n",
       "      <th></th>\n",
       "      <th></th>\n",
       "      <th></th>\n",
       "      <th></th>\n",
       "      <th></th>\n",
       "      <th></th>\n",
       "      <th></th>\n",
       "      <th></th>\n",
       "      <th></th>\n",
       "      <th></th>\n",
       "      <th></th>\n",
       "      <th></th>\n",
       "      <th></th>\n",
       "      <th></th>\n",
       "      <th></th>\n",
       "      <th></th>\n",
       "      <th></th>\n",
       "      <th></th>\n",
       "      <th></th>\n",
       "      <th></th>\n",
       "      <th></th>\n",
       "    </tr>\n",
       "  </thead>\n",
       "  <tbody>\n",
       "    <tr>\n",
       "      <th>1</th>\n",
       "      <td>0.80</td>\n",
       "      <td>0.89</td>\n",
       "      <td>8.0</td>\n",
       "      <td>27</td>\n",
       "      <td>687</td>\n",
       "      <td>0</td>\n",
       "      <td>0</td>\n",
       "      <td>1</td>\n",
       "      <td>0</td>\n",
       "      <td>0</td>\n",
       "      <td>...</td>\n",
       "      <td>0</td>\n",
       "      <td>0</td>\n",
       "      <td>0</td>\n",
       "      <td>0</td>\n",
       "      <td>0</td>\n",
       "      <td>0</td>\n",
       "      <td>1</td>\n",
       "      <td>0</td>\n",
       "      <td>0</td>\n",
       "      <td>0</td>\n",
       "    </tr>\n",
       "    <tr>\n",
       "      <th>2</th>\n",
       "      <td>0.77</td>\n",
       "      <td>0.80</td>\n",
       "      <td>8.0</td>\n",
       "      <td>34</td>\n",
       "      <td>599</td>\n",
       "      <td>0</td>\n",
       "      <td>0</td>\n",
       "      <td>1</td>\n",
       "      <td>0</td>\n",
       "      <td>0</td>\n",
       "      <td>...</td>\n",
       "      <td>0</td>\n",
       "      <td>0</td>\n",
       "      <td>1</td>\n",
       "      <td>0</td>\n",
       "      <td>0</td>\n",
       "      <td>0</td>\n",
       "      <td>0</td>\n",
       "      <td>0</td>\n",
       "      <td>0</td>\n",
       "      <td>0</td>\n",
       "    </tr>\n",
       "    <tr>\n",
       "      <th>3</th>\n",
       "      <td>0.87</td>\n",
       "      <td>0.75</td>\n",
       "      <td>10.0</td>\n",
       "      <td>26</td>\n",
       "      <td>804</td>\n",
       "      <td>0</td>\n",
       "      <td>0</td>\n",
       "      <td>0</td>\n",
       "      <td>1</td>\n",
       "      <td>0</td>\n",
       "      <td>...</td>\n",
       "      <td>0</td>\n",
       "      <td>0</td>\n",
       "      <td>0</td>\n",
       "      <td>0</td>\n",
       "      <td>0</td>\n",
       "      <td>1</td>\n",
       "      <td>0</td>\n",
       "      <td>0</td>\n",
       "      <td>0</td>\n",
       "      <td>0</td>\n",
       "    </tr>\n",
       "    <tr>\n",
       "      <th>4</th>\n",
       "      <td>0.73</td>\n",
       "      <td>0.90</td>\n",
       "      <td>8.0</td>\n",
       "      <td>23</td>\n",
       "      <td>792</td>\n",
       "      <td>0</td>\n",
       "      <td>1</td>\n",
       "      <td>0</td>\n",
       "      <td>0</td>\n",
       "      <td>0</td>\n",
       "      <td>...</td>\n",
       "      <td>0</td>\n",
       "      <td>0</td>\n",
       "      <td>0</td>\n",
       "      <td>0</td>\n",
       "      <td>0</td>\n",
       "      <td>0</td>\n",
       "      <td>0</td>\n",
       "      <td>0</td>\n",
       "      <td>0</td>\n",
       "      <td>1</td>\n",
       "    </tr>\n",
       "    <tr>\n",
       "      <th>5</th>\n",
       "      <td>0.75</td>\n",
       "      <td>0.61</td>\n",
       "      <td>6.0</td>\n",
       "      <td>28</td>\n",
       "      <td>488</td>\n",
       "      <td>0</td>\n",
       "      <td>0</td>\n",
       "      <td>1</td>\n",
       "      <td>0</td>\n",
       "      <td>0</td>\n",
       "      <td>...</td>\n",
       "      <td>0</td>\n",
       "      <td>0</td>\n",
       "      <td>0</td>\n",
       "      <td>0</td>\n",
       "      <td>0</td>\n",
       "      <td>0</td>\n",
       "      <td>0</td>\n",
       "      <td>0</td>\n",
       "      <td>0</td>\n",
       "      <td>1</td>\n",
       "    </tr>\n",
       "  </tbody>\n",
       "</table>\n",
       "<p>5 rows × 107 columns</p>\n",
       "</div>"
      ],
      "text/plain": [
       "    Aptitude Score  Logic Test Score %  Interview Score  age  score  \\\n",
       "id                                                                    \n",
       "1             0.80                0.89              8.0   27    687   \n",
       "2             0.77                0.80              8.0   34    599   \n",
       "3             0.87                0.75             10.0   26    804   \n",
       "4             0.73                0.90              8.0   23    792   \n",
       "5             0.75                0.61              6.0   28    488   \n",
       "\n",
       "    Interviewer _Aidan Helmbold  Interviewer _Byron Roelofsz  \\\n",
       "id                                                             \n",
       "1                             0                            0   \n",
       "2                             0                            0   \n",
       "3                             0                            0   \n",
       "4                             0                            1   \n",
       "5                             0                            0   \n",
       "\n",
       "    Interviewer _Dewald Botha  Interviewer _John Clur  \\\n",
       "id                                                      \n",
       "1                           1                       0   \n",
       "2                           1                       0   \n",
       "3                           0                       1   \n",
       "4                           0                       0   \n",
       "5                           1                       0   \n",
       "\n",
       "    Interviewer _Nuri Barnard      ...       Computer Applications_A  \\\n",
       "id                                 ...                                 \n",
       "1                           0      ...                             0   \n",
       "2                           0      ...                             0   \n",
       "3                           0      ...                             0   \n",
       "4                           0      ...                             0   \n",
       "5                           0      ...                             0   \n",
       "\n",
       "    Computer Applications_C  Province_CT  Province_DBN  Province_EC  \\\n",
       "id                                                                    \n",
       "1                         0            0             0            0   \n",
       "2                         0            1             0            0   \n",
       "3                         0            0             0            0   \n",
       "4                         0            0             0            0   \n",
       "5                         0            0             0            0   \n",
       "\n",
       "    Province_JHB  Province_KZN  Province_NC  Province_NW  Province_PTA  \n",
       "id                                                                      \n",
       "1              0             1            0            0             0  \n",
       "2              0             0            0            0             0  \n",
       "3              1             0            0            0             0  \n",
       "4              0             0            0            0             1  \n",
       "5              0             0            0            0             1  \n",
       "\n",
       "[5 rows x 107 columns]"
      ]
     },
     "execution_count": 9,
     "metadata": {},
     "output_type": "execute_result"
    }
   ],
   "source": [
    "df.head()"
   ]
  },
  {
   "cell_type": "code",
   "execution_count": 10,
   "metadata": {
    "scrolled": true
   },
   "outputs": [
    {
     "data": {
      "text/plain": [
       "Index(['Aptitude Score', 'Logic Test Score %', 'Interview Score', 'age',\n",
       "       'score', 'Interviewer _Aidan Helmbold', 'Interviewer _Byron Roelofsz',\n",
       "       'Interviewer _Dewald Botha', 'Interviewer _John Clur',\n",
       "       'Interviewer _Nuri Barnard',\n",
       "       ...\n",
       "       'Computer Applications_A', 'Computer Applications_C', 'Province_CT',\n",
       "       'Province_DBN', 'Province_EC', 'Province_JHB', 'Province_KZN',\n",
       "       'Province_NC', 'Province_NW', 'Province_PTA'],\n",
       "      dtype='object', length=107)"
      ]
     },
     "execution_count": 10,
     "metadata": {},
     "output_type": "execute_result"
    }
   ],
   "source": [
    "df.columns"
   ]
  },
  {
   "cell_type": "code",
   "execution_count": 11,
   "metadata": {},
   "outputs": [
    {
     "data": {
      "text/plain": [
       "106"
      ]
     },
     "execution_count": 11,
     "metadata": {},
     "output_type": "execute_result"
    }
   ],
   "source": [
    "len(list(X))"
   ]
  },
  {
   "cell_type": "code",
   "execution_count": 12,
   "metadata": {},
   "outputs": [],
   "source": [
    "df.to_csv('converted_data.csv')"
   ]
  },
  {
   "cell_type": "markdown",
   "metadata": {},
   "source": [
    "# Single Factor Analyis"
   ]
  },
  {
   "cell_type": "code",
   "execution_count": 13,
   "metadata": {
    "scrolled": true
   },
   "outputs": [
    {
     "data": {
      "text/html": [
       "<div>\n",
       "<style scoped>\n",
       "    .dataframe tbody tr th:only-of-type {\n",
       "        vertical-align: middle;\n",
       "    }\n",
       "\n",
       "    .dataframe tbody tr th {\n",
       "        vertical-align: top;\n",
       "    }\n",
       "\n",
       "    .dataframe thead th {\n",
       "        text-align: right;\n",
       "    }\n",
       "</style>\n",
       "<table border=\"1\" class=\"dataframe\">\n",
       "  <thead>\n",
       "    <tr style=\"text-align: right;\">\n",
       "      <th></th>\n",
       "      <th>Coefficient</th>\n",
       "      <th>t_statistic</th>\n",
       "      <th>p_value</th>\n",
       "      <th>Intercept</th>\n",
       "    </tr>\n",
       "  </thead>\n",
       "  <tbody>\n",
       "    <tr>\n",
       "      <th>Aptitude Score</th>\n",
       "      <td>266.052500</td>\n",
       "      <td>3.831127</td>\n",
       "      <td>0.000229</td>\n",
       "      <td>404.906992</td>\n",
       "    </tr>\n",
       "    <tr>\n",
       "      <th>type_ESTP-A</th>\n",
       "      <td>89.458824</td>\n",
       "      <td>3.348708</td>\n",
       "      <td>0.001165</td>\n",
       "      <td>600.541176</td>\n",
       "    </tr>\n",
       "    <tr>\n",
       "      <th>age</th>\n",
       "      <td>244.837295</td>\n",
       "      <td>3.308086</td>\n",
       "      <td>0.001328</td>\n",
       "      <td>445.043164</td>\n",
       "    </tr>\n",
       "    <tr>\n",
       "      <th>Maths_A</th>\n",
       "      <td>-54.707753</td>\n",
       "      <td>-3.044191</td>\n",
       "      <td>0.003018</td>\n",
       "      <td>634.732143</td>\n",
       "    </tr>\n",
       "    <tr>\n",
       "      <th>Maths_B</th>\n",
       "      <td>72.581756</td>\n",
       "      <td>2.858033</td>\n",
       "      <td>0.005238</td>\n",
       "      <td>601.132530</td>\n",
       "    </tr>\n",
       "    <tr>\n",
       "      <th>Logic Test Score %</th>\n",
       "      <td>22.924892</td>\n",
       "      <td>2.847645</td>\n",
       "      <td>0.005398</td>\n",
       "      <td>423.718669</td>\n",
       "    </tr>\n",
       "    <tr>\n",
       "      <th>type_ENFP-T</th>\n",
       "      <td>-89.957143</td>\n",
       "      <td>-2.589664</td>\n",
       "      <td>0.011118</td>\n",
       "      <td>618.100000</td>\n",
       "    </tr>\n",
       "    <tr>\n",
       "      <th>type_ESFP-T</th>\n",
       "      <td>-126.521277</td>\n",
       "      <td>-2.427039</td>\n",
       "      <td>0.017108</td>\n",
       "      <td>615.521277</td>\n",
       "    </tr>\n",
       "    <tr>\n",
       "      <th>Maths_F</th>\n",
       "      <td>-38.632075</td>\n",
       "      <td>-2.116114</td>\n",
       "      <td>0.036950</td>\n",
       "      <td>629.132075</td>\n",
       "    </tr>\n",
       "    <tr>\n",
       "      <th>Computer Applications_C</th>\n",
       "      <td>57.791176</td>\n",
       "      <td>2.092530</td>\n",
       "      <td>0.039057</td>\n",
       "      <td>604.458824</td>\n",
       "    </tr>\n",
       "    <tr>\n",
       "      <th>type_ENTJ-A</th>\n",
       "      <td>39.318905</td>\n",
       "      <td>1.994492</td>\n",
       "      <td>0.048964</td>\n",
       "      <td>599.447761</td>\n",
       "    </tr>\n",
       "    <tr>\n",
       "      <th>Province_NC</th>\n",
       "      <td>-73.131868</td>\n",
       "      <td>-1.931028</td>\n",
       "      <td>0.056461</td>\n",
       "      <td>616.131868</td>\n",
       "    </tr>\n",
       "    <tr>\n",
       "      <th>Science_E</th>\n",
       "      <td>-42.104637</td>\n",
       "      <td>-1.899622</td>\n",
       "      <td>0.060516</td>\n",
       "      <td>620.723684</td>\n",
       "    </tr>\n",
       "    <tr>\n",
       "      <th>Xhosa_B</th>\n",
       "      <td>169.135417</td>\n",
       "      <td>1.870461</td>\n",
       "      <td>0.064498</td>\n",
       "      <td>609.864583</td>\n",
       "    </tr>\n",
       "    <tr>\n",
       "      <th>programming_Ninja level</th>\n",
       "      <td>50.274841</td>\n",
       "      <td>1.741177</td>\n",
       "      <td>0.084890</td>\n",
       "      <td>605.906977</td>\n",
       "    </tr>\n",
       "    <tr>\n",
       "      <th>Venda_B</th>\n",
       "      <td>91.212766</td>\n",
       "      <td>1.724236</td>\n",
       "      <td>0.087918</td>\n",
       "      <td>608.787234</td>\n",
       "    </tr>\n",
       "    <tr>\n",
       "      <th>Computer Applications_A</th>\n",
       "      <td>49.249471</td>\n",
       "      <td>1.704568</td>\n",
       "      <td>0.091544</td>\n",
       "      <td>606.023256</td>\n",
       "    </tr>\n",
       "    <tr>\n",
       "      <th>type_INFP-T</th>\n",
       "      <td>-52.967172</td>\n",
       "      <td>-1.676589</td>\n",
       "      <td>0.096911</td>\n",
       "      <td>616.522727</td>\n",
       "    </tr>\n",
       "    <tr>\n",
       "      <th>type_INTJ-A</th>\n",
       "      <td>-88.684397</td>\n",
       "      <td>-1.675009</td>\n",
       "      <td>0.097221</td>\n",
       "      <td>614.351064</td>\n",
       "    </tr>\n",
       "    <tr>\n",
       "      <th>Sex_Male</th>\n",
       "      <td>-36.585065</td>\n",
       "      <td>-1.613084</td>\n",
       "      <td>0.110043</td>\n",
       "      <td>640.650000</td>\n",
       "    </tr>\n",
       "    <tr>\n",
       "      <th>Interviewer _Aidan Helmbold</th>\n",
       "      <td>36.585065</td>\n",
       "      <td>1.613084</td>\n",
       "      <td>0.110043</td>\n",
       "      <td>604.064935</td>\n",
       "    </tr>\n",
       "    <tr>\n",
       "      <th>Maths_D</th>\n",
       "      <td>44.572549</td>\n",
       "      <td>1.599043</td>\n",
       "      <td>0.113132</td>\n",
       "      <td>606.094118</td>\n",
       "    </tr>\n",
       "    <tr>\n",
       "      <th>Science_C</th>\n",
       "      <td>32.483207</td>\n",
       "      <td>1.566898</td>\n",
       "      <td>0.120464</td>\n",
       "      <td>602.901408</td>\n",
       "    </tr>\n",
       "    <tr>\n",
       "      <th>Interviewer _Nuri Barnard</th>\n",
       "      <td>29.895833</td>\n",
       "      <td>1.541878</td>\n",
       "      <td>0.126428</td>\n",
       "      <td>601.437500</td>\n",
       "    </tr>\n",
       "    <tr>\n",
       "      <th>Interviewer _John Clur</th>\n",
       "      <td>-29.895833</td>\n",
       "      <td>-1.541878</td>\n",
       "      <td>0.126428</td>\n",
       "      <td>631.333333</td>\n",
       "    </tr>\n",
       "    <tr>\n",
       "      <th>type_ISFJ-T</th>\n",
       "      <td>-139.041667</td>\n",
       "      <td>-1.528558</td>\n",
       "      <td>0.129697</td>\n",
       "      <td>613.041667</td>\n",
       "    </tr>\n",
       "    <tr>\n",
       "      <th>type_ENFP-A</th>\n",
       "      <td>-78.709220</td>\n",
       "      <td>-1.481966</td>\n",
       "      <td>0.141659</td>\n",
       "      <td>614.042553</td>\n",
       "    </tr>\n",
       "    <tr>\n",
       "      <th>type_INFP-A</th>\n",
       "      <td>-35.757353</td>\n",
       "      <td>-1.478426</td>\n",
       "      <td>0.142602</td>\n",
       "      <td>617.875000</td>\n",
       "    </tr>\n",
       "    <tr>\n",
       "      <th>Zulu_C</th>\n",
       "      <td>-29.432078</td>\n",
       "      <td>-1.379171</td>\n",
       "      <td>0.171080</td>\n",
       "      <td>618.890411</td>\n",
       "    </tr>\n",
       "    <tr>\n",
       "      <th>type_ENFJ-A</th>\n",
       "      <td>-120.854167</td>\n",
       "      <td>-1.324636</td>\n",
       "      <td>0.188470</td>\n",
       "      <td>612.854167</td>\n",
       "    </tr>\n",
       "    <tr>\n",
       "      <th>...</th>\n",
       "      <td>...</td>\n",
       "      <td>...</td>\n",
       "      <td>...</td>\n",
       "      <td>...</td>\n",
       "    </tr>\n",
       "    <tr>\n",
       "      <th>Province_EC</th>\n",
       "      <td>-15.785112</td>\n",
       "      <td>-0.467425</td>\n",
       "      <td>0.641266</td>\n",
       "      <td>612.910112</td>\n",
       "    </tr>\n",
       "    <tr>\n",
       "      <th>Province_CT</th>\n",
       "      <td>12.848837</td>\n",
       "      <td>0.438504</td>\n",
       "      <td>0.662016</td>\n",
       "      <td>610.151163</td>\n",
       "    </tr>\n",
       "    <tr>\n",
       "      <th>programming_A little</th>\n",
       "      <td>-10.533179</td>\n",
       "      <td>-0.420718</td>\n",
       "      <td>0.674911</td>\n",
       "      <td>613.345679</td>\n",
       "    </tr>\n",
       "    <tr>\n",
       "      <th>Province_KZN</th>\n",
       "      <td>36.770833</td>\n",
       "      <td>0.399695</td>\n",
       "      <td>0.690278</td>\n",
       "      <td>611.229167</td>\n",
       "    </tr>\n",
       "    <tr>\n",
       "      <th>type_ISTJ-T</th>\n",
       "      <td>21.042553</td>\n",
       "      <td>0.392012</td>\n",
       "      <td>0.695928</td>\n",
       "      <td>610.957447</td>\n",
       "    </tr>\n",
       "    <tr>\n",
       "      <th>Province_PTA</th>\n",
       "      <td>20.698582</td>\n",
       "      <td>0.385594</td>\n",
       "      <td>0.700660</td>\n",
       "      <td>610.968085</td>\n",
       "    </tr>\n",
       "    <tr>\n",
       "      <th>Interviewer _Dewald Botha</th>\n",
       "      <td>7.179443</td>\n",
       "      <td>0.381623</td>\n",
       "      <td>0.703593</td>\n",
       "      <td>607.463415</td>\n",
       "    </tr>\n",
       "    <tr>\n",
       "      <th>Interviewer _Byron Roelofsz</th>\n",
       "      <td>-7.179443</td>\n",
       "      <td>-0.381623</td>\n",
       "      <td>0.703593</td>\n",
       "      <td>614.642857</td>\n",
       "    </tr>\n",
       "    <tr>\n",
       "      <th>type_ISTP-T</th>\n",
       "      <td>8.264395</td>\n",
       "      <td>0.378219</td>\n",
       "      <td>0.706112</td>\n",
       "      <td>609.648649</td>\n",
       "    </tr>\n",
       "    <tr>\n",
       "      <th>Sepedi _A</th>\n",
       "      <td>-33.958333</td>\n",
       "      <td>-0.369078</td>\n",
       "      <td>0.712891</td>\n",
       "      <td>611.958333</td>\n",
       "    </tr>\n",
       "    <tr>\n",
       "      <th>Sotho_B</th>\n",
       "      <td>13.201587</td>\n",
       "      <td>0.367562</td>\n",
       "      <td>0.714018</td>\n",
       "      <td>610.655556</td>\n",
       "    </tr>\n",
       "    <tr>\n",
       "      <th>A/T_T</th>\n",
       "      <td>-30.927083</td>\n",
       "      <td>-0.336092</td>\n",
       "      <td>0.737543</td>\n",
       "      <td>611.927083</td>\n",
       "    </tr>\n",
       "    <tr>\n",
       "      <th>J/P_P</th>\n",
       "      <td>-17.978947</td>\n",
       "      <td>-0.274814</td>\n",
       "      <td>0.784056</td>\n",
       "      <td>611.978947</td>\n",
       "    </tr>\n",
       "    <tr>\n",
       "      <th>qualification_Post Graduate</th>\n",
       "      <td>5.966912</td>\n",
       "      <td>0.243995</td>\n",
       "      <td>0.807761</td>\n",
       "      <td>610.562500</td>\n",
       "    </tr>\n",
       "    <tr>\n",
       "      <th>Province_NW</th>\n",
       "      <td>8.120635</td>\n",
       "      <td>0.225997</td>\n",
       "      <td>0.821689</td>\n",
       "      <td>611.022222</td>\n",
       "    </tr>\n",
       "    <tr>\n",
       "      <th>Maths_E</th>\n",
       "      <td>20.604167</td>\n",
       "      <td>0.223836</td>\n",
       "      <td>0.823365</td>\n",
       "      <td>611.395833</td>\n",
       "    </tr>\n",
       "    <tr>\n",
       "      <th>qualification_Matriculant</th>\n",
       "      <td>-5.802926</td>\n",
       "      <td>-0.219324</td>\n",
       "      <td>0.826869</td>\n",
       "      <td>612.445783</td>\n",
       "    </tr>\n",
       "    <tr>\n",
       "      <th>A/T_A</th>\n",
       "      <td>-13.894737</td>\n",
       "      <td>-0.212352</td>\n",
       "      <td>0.832288</td>\n",
       "      <td>611.894737</td>\n",
       "    </tr>\n",
       "    <tr>\n",
       "      <th>Swana_C</th>\n",
       "      <td>-18.802083</td>\n",
       "      <td>-0.204250</td>\n",
       "      <td>0.838595</td>\n",
       "      <td>611.802083</td>\n",
       "    </tr>\n",
       "    <tr>\n",
       "      <th>type_INTP-T</th>\n",
       "      <td>-3.867495</td>\n",
       "      <td>-0.188469</td>\n",
       "      <td>0.850911</td>\n",
       "      <td>612.724638</td>\n",
       "    </tr>\n",
       "    <tr>\n",
       "      <th>English _C</th>\n",
       "      <td>9.003546</td>\n",
       "      <td>0.167621</td>\n",
       "      <td>0.867238</td>\n",
       "      <td>611.329787</td>\n",
       "    </tr>\n",
       "    <tr>\n",
       "      <th>Province_DBN</th>\n",
       "      <td>6.457875</td>\n",
       "      <td>0.167292</td>\n",
       "      <td>0.867496</td>\n",
       "      <td>611.208791</td>\n",
       "    </tr>\n",
       "    <tr>\n",
       "      <th>qualification_Graduate</th>\n",
       "      <td>3.831818</td>\n",
       "      <td>0.166707</td>\n",
       "      <td>0.867955</td>\n",
       "      <td>610.818182</td>\n",
       "    </tr>\n",
       "    <tr>\n",
       "      <th>Province_JHB</th>\n",
       "      <td>6.927419</td>\n",
       "      <td>0.148122</td>\n",
       "      <td>0.882561</td>\n",
       "      <td>611.322581</td>\n",
       "    </tr>\n",
       "    <tr>\n",
       "      <th>type_ENTP-T</th>\n",
       "      <td>-3.162500</td>\n",
       "      <td>-0.129290</td>\n",
       "      <td>0.897402</td>\n",
       "      <td>612.162500</td>\n",
       "    </tr>\n",
       "    <tr>\n",
       "      <th>Interview Score</th>\n",
       "      <td>-0.287878</td>\n",
       "      <td>-0.125866</td>\n",
       "      <td>0.900104</td>\n",
       "      <td>618.823005</td>\n",
       "    </tr>\n",
       "    <tr>\n",
       "      <th>type_ISFP-A</th>\n",
       "      <td>-2.540061</td>\n",
       "      <td>-0.125043</td>\n",
       "      <td>0.900754</td>\n",
       "      <td>612.367647</td>\n",
       "    </tr>\n",
       "    <tr>\n",
       "      <th>N/S_S</th>\n",
       "      <td>10.500000</td>\n",
       "      <td>0.114046</td>\n",
       "      <td>0.909442</td>\n",
       "      <td>611.500000</td>\n",
       "    </tr>\n",
       "    <tr>\n",
       "      <th>Afrikaans_C</th>\n",
       "      <td>3.463158</td>\n",
       "      <td>0.052915</td>\n",
       "      <td>0.957911</td>\n",
       "      <td>611.536842</td>\n",
       "    </tr>\n",
       "    <tr>\n",
       "      <th>Swana_B</th>\n",
       "      <td>2.468085</td>\n",
       "      <td>0.045943</td>\n",
       "      <td>0.963453</td>\n",
       "      <td>611.531915</td>\n",
       "    </tr>\n",
       "  </tbody>\n",
       "</table>\n",
       "<p>106 rows × 4 columns</p>\n",
       "</div>"
      ],
      "text/plain": [
       "                             Coefficient  t_statistic   p_value   Intercept\n",
       "Aptitude Score                266.052500     3.831127  0.000229  404.906992\n",
       "type_ESTP-A                    89.458824     3.348708  0.001165  600.541176\n",
       "age                           244.837295     3.308086  0.001328  445.043164\n",
       "Maths_A                       -54.707753    -3.044191  0.003018  634.732143\n",
       "Maths_B                        72.581756     2.858033  0.005238  601.132530\n",
       "Logic Test Score %             22.924892     2.847645  0.005398  423.718669\n",
       "type_ENFP-T                   -89.957143    -2.589664  0.011118  618.100000\n",
       "type_ESFP-T                  -126.521277    -2.427039  0.017108  615.521277\n",
       "Maths_F                       -38.632075    -2.116114  0.036950  629.132075\n",
       "Computer Applications_C        57.791176     2.092530  0.039057  604.458824\n",
       "type_ENTJ-A                    39.318905     1.994492  0.048964  599.447761\n",
       "Province_NC                   -73.131868    -1.931028  0.056461  616.131868\n",
       "Science_E                     -42.104637    -1.899622  0.060516  620.723684\n",
       "Xhosa_B                       169.135417     1.870461  0.064498  609.864583\n",
       "programming_Ninja level        50.274841     1.741177  0.084890  605.906977\n",
       "Venda_B                        91.212766     1.724236  0.087918  608.787234\n",
       "Computer Applications_A        49.249471     1.704568  0.091544  606.023256\n",
       "type_INFP-T                   -52.967172    -1.676589  0.096911  616.522727\n",
       "type_INTJ-A                   -88.684397    -1.675009  0.097221  614.351064\n",
       "Sex_Male                      -36.585065    -1.613084  0.110043  640.650000\n",
       "Interviewer _Aidan Helmbold    36.585065     1.613084  0.110043  604.064935\n",
       "Maths_D                        44.572549     1.599043  0.113132  606.094118\n",
       "Science_C                      32.483207     1.566898  0.120464  602.901408\n",
       "Interviewer _Nuri Barnard      29.895833     1.541878  0.126428  601.437500\n",
       "Interviewer _John Clur        -29.895833    -1.541878  0.126428  631.333333\n",
       "type_ISFJ-T                  -139.041667    -1.528558  0.129697  613.041667\n",
       "type_ENFP-A                   -78.709220    -1.481966  0.141659  614.042553\n",
       "type_INFP-A                   -35.757353    -1.478426  0.142602  617.875000\n",
       "Zulu_C                        -29.432078    -1.379171  0.171080  618.890411\n",
       "type_ENFJ-A                  -120.854167    -1.324636  0.188470  612.854167\n",
       "...                                  ...          ...       ...         ...\n",
       "Province_EC                   -15.785112    -0.467425  0.641266  612.910112\n",
       "Province_CT                    12.848837     0.438504  0.662016  610.151163\n",
       "programming_A little          -10.533179    -0.420718  0.674911  613.345679\n",
       "Province_KZN                   36.770833     0.399695  0.690278  611.229167\n",
       "type_ISTJ-T                    21.042553     0.392012  0.695928  610.957447\n",
       "Province_PTA                   20.698582     0.385594  0.700660  610.968085\n",
       "Interviewer _Dewald Botha       7.179443     0.381623  0.703593  607.463415\n",
       "Interviewer _Byron Roelofsz    -7.179443    -0.381623  0.703593  614.642857\n",
       "type_ISTP-T                     8.264395     0.378219  0.706112  609.648649\n",
       "Sepedi _A                     -33.958333    -0.369078  0.712891  611.958333\n",
       "Sotho_B                        13.201587     0.367562  0.714018  610.655556\n",
       "A/T_T                         -30.927083    -0.336092  0.737543  611.927083\n",
       "J/P_P                         -17.978947    -0.274814  0.784056  611.978947\n",
       "qualification_Post Graduate     5.966912     0.243995  0.807761  610.562500\n",
       "Province_NW                     8.120635     0.225997  0.821689  611.022222\n",
       "Maths_E                        20.604167     0.223836  0.823365  611.395833\n",
       "qualification_Matriculant      -5.802926    -0.219324  0.826869  612.445783\n",
       "A/T_A                         -13.894737    -0.212352  0.832288  611.894737\n",
       "Swana_C                       -18.802083    -0.204250  0.838595  611.802083\n",
       "type_INTP-T                    -3.867495    -0.188469  0.850911  612.724638\n",
       "English _C                      9.003546     0.167621  0.867238  611.329787\n",
       "Province_DBN                    6.457875     0.167292  0.867496  611.208791\n",
       "qualification_Graduate          3.831818     0.166707  0.867955  610.818182\n",
       "Province_JHB                    6.927419     0.148122  0.882561  611.322581\n",
       "type_ENTP-T                    -3.162500    -0.129290  0.897402  612.162500\n",
       "Interview Score                -0.287878    -0.125866  0.900104  618.823005\n",
       "type_ISFP-A                    -2.540061    -0.125043  0.900754  612.367647\n",
       "N/S_S                          10.500000     0.114046  0.909442  611.500000\n",
       "Afrikaans_C                     3.463158     0.052915  0.957911  611.536842\n",
       "Swana_B                         2.468085     0.045943  0.963453  611.531915\n",
       "\n",
       "[106 rows x 4 columns]"
      ]
     },
     "execution_count": 13,
     "metadata": {},
     "output_type": "execute_result"
    }
   ],
   "source": [
    "#import the api module from the statsmodels library, which we'll use to perform thes tests\n",
    "import statsmodels.api as sm\n",
    "\n",
    "feature_names = ['age',\n",
    " 'Aptitude Score',\n",
    " 'Logic Test Score %',\n",
    " 'Interview Score',\n",
    " 'qualification_Graduate',\n",
    " 'qualification_Matriculant',\n",
    " 'qualification_Post Graduate',\n",
    " 'programming_A little',\n",
    " 'programming_A lot',\n",
    " 'programming_Ninja level',\n",
    " 'programming_None',\n",
    " 'Sex_Female',\n",
    " 'Sex_Male',\n",
    " 'Interviewer _Aidan Helmbold',\n",
    " 'Interviewer _Byron Roelofsz',\n",
    " 'Interviewer _Dewald Botha',\n",
    " 'Interviewer _John Clur',\n",
    " 'Interviewer _Nuri Barnard',\n",
    " 'Interviewer _Shaun Dippnall',\n",
    " 'English _A',\n",
    " 'English _B',\n",
    " 'English _C',\n",
    " 'English _D',\n",
    " 'English _E',\n",
    " 'Afrikaans_A',\n",
    " 'Afrikaans_B',\n",
    " 'Afrikaans_C',\n",
    " 'Afrikaans_D',\n",
    " 'Afrikaans_E',\n",
    " 'Afrikaans_F',\n",
    " 'Sepedi _A',\n",
    " 'Sepedi _B',\n",
    " 'Sepedi _C',\n",
    " 'Zulu_A',\n",
    " 'Zulu_B',\n",
    " 'Zulu_C',\n",
    " 'Sotho_A',\n",
    " 'Sotho_B',\n",
    " 'Sotho_C',\n",
    " 'Swana_B',\n",
    " 'Swana_C',\n",
    " 'Venda_A',\n",
    " 'Venda_B',\n",
    " 'Venda_C',\n",
    " 'Xhosa_A',\n",
    " 'Xhosa_B',\n",
    " 'Xhosa_C',\n",
    " 'Maths_A',\n",
    " 'Maths_B',\n",
    " 'Maths_C',\n",
    " 'Maths_D',\n",
    " 'Maths_E',\n",
    " 'Maths_F',\n",
    " 'Maths_G',\n",
    " 'Science_A',\n",
    " 'Science_B',\n",
    " 'Science_C',\n",
    " 'Science_D',\n",
    " 'Science_E',\n",
    " 'Science_F',\n",
    " 'Computer Applications_A',\n",
    " 'Computer Applications_C',\n",
    " 'Province_CT',\n",
    " 'Province_DBN',\n",
    " 'Province_EC',\n",
    " 'Province_JHB',\n",
    " 'Province_KZN',\n",
    " 'Province_NC',\n",
    " 'Province_NW',\n",
    " 'Province_PTA',\n",
    " 'I/E_E',\n",
    " 'I/E_I',\n",
    " 'N/S_N',\n",
    " 'N/S_S',\n",
    " 'T/F_F',\n",
    " 'T/F_T',\n",
    " 'J/P_J',\n",
    " 'J/P_P',\n",
    " 'A/T_A',\n",
    " 'A/T_T',\n",
    " 'type_ENFJ-A',\n",
    " 'type_ENFP-A',\n",
    " 'type_ENFP-T',\n",
    " 'type_ENTJ-A',\n",
    " 'type_ENTP-A',\n",
    " 'type_ENTP-T',\n",
    " 'type_ESFJ-A',\n",
    " 'type_ESFP-A',\n",
    " 'type_ESFP-T',\n",
    " 'type_ESTJ-A',\n",
    " 'type_ESTP-A',\n",
    " 'type_INFJ-A',\n",
    " 'type_INFJ-T',\n",
    " 'type_INFP-A',\n",
    " 'type_INFP-T',\n",
    " 'type_INTJ-A',\n",
    " 'type_INTJ-T',\n",
    " 'type_INTP-A',\n",
    " 'type_INTP-T',\n",
    " 'type_ISFJ-A',\n",
    " 'type_ISFJ-T',\n",
    " 'type_ISFP-A',\n",
    " 'type_ISTJ-A',\n",
    " 'type_ISTJ-T',\n",
    " 'type_ISTP-A',\n",
    " 'type_ISTP-T']\n",
    "\n",
    "# Create a empty list g, which will be appended with information of each feature\n",
    "g = []\n",
    "\n",
    "# Create a for loop to do the following for all features:\n",
    "# 1) fit the regression line\n",
    "# 2) calculate parameters, test statistic and p-value\n",
    "# 3) add 2) to a list\n",
    "for column in X:\n",
    "    regression = sm.OLS(y, sm.add_constant(X[[column]])).fit()\n",
    "    regression_params = regression.params[1]\n",
    "    regression_tvalues = regression.tvalues[1]\n",
    "    regression_pvalues = regression.pvalues[1]\n",
    "    regression_intercept = regression.params[0]\n",
    "    g.append([regression_params, regression_tvalues, regression_pvalues, regression_intercept])\n",
    "    \n",
    "# Create dataframe with coefficient, t statistc and p-value per feature and sort by p-value\n",
    "g = pd.DataFrame(data= np.array(g).reshape((len(feature_names), 4)), index=feature_names, columns=['Coefficient', 't_statistic', 'p_value','Intercept'])\n",
    "g.sort_values(by = 'p_value') "
   ]
  },
  {
   "cell_type": "code",
   "execution_count": 14,
   "metadata": {},
   "outputs": [],
   "source": [
    "SFA = g.sort_values(by = 'p_value').head(11)\n",
    "SFA.to_csv('Single Factor Analysis.csv')"
   ]
  },
  {
   "cell_type": "code",
   "execution_count": 15,
   "metadata": {},
   "outputs": [],
   "source": [
    "#This means there are 4 features that have a significant impact on the score at 5% significance level\n",
    "#That is Logic Test Score%, Science_A, Aptitude Score, Qualification_Matriculant"
   ]
  },
  {
   "cell_type": "code",
   "execution_count": 16,
   "metadata": {},
   "outputs": [],
   "source": [
    "g.to_csv('all columns SFA.csv')"
   ]
  },
  {
   "cell_type": "code",
   "execution_count": 17,
   "metadata": {},
   "outputs": [
    {
     "data": {
      "text/plain": [
       "106"
      ]
     },
     "execution_count": 17,
     "metadata": {},
     "output_type": "execute_result"
    }
   ],
   "source": [
    "len(feature_names)"
   ]
  },
  {
   "cell_type": "code",
   "execution_count": 18,
   "metadata": {},
   "outputs": [],
   "source": [
    "y = df['score']"
   ]
  },
  {
   "cell_type": "code",
   "execution_count": 19,
   "metadata": {},
   "outputs": [],
   "source": [
    "X = df[['Logic Test Score %','Science_A','Aptitude Score','qualification_Matriculant','qualification_Post Graduate','Interview Score','Xhosa_C','Maths_F','programming_None','Afrikaans_B','Maths_A']]"
   ]
  },
  {
   "cell_type": "code",
   "execution_count": 20,
   "metadata": {},
   "outputs": [
    {
     "data": {
      "text/plain": [
       "Index(['Logic Test Score %', 'Science_A', 'Aptitude Score',\n",
       "       'qualification_Matriculant', 'qualification_Post Graduate',\n",
       "       'Interview Score', 'Xhosa_C', 'Maths_F', 'programming_None',\n",
       "       'Afrikaans_B', 'Maths_A'],\n",
       "      dtype='object')"
      ]
     },
     "execution_count": 20,
     "metadata": {},
     "output_type": "execute_result"
    }
   ],
   "source": [
    "X.columns"
   ]
  },
  {
   "cell_type": "markdown",
   "metadata": {},
   "source": [
    "# BUILDING MACHINE LEARNING MODEL"
   ]
  },
  {
   "cell_type": "code",
   "execution_count": null,
   "metadata": {},
   "outputs": [],
   "source": []
  },
  {
   "cell_type": "markdown",
   "metadata": {},
   "source": [
    "# split our data\n"
   ]
  },
  {
   "cell_type": "code",
   "execution_count": 21,
   "metadata": {},
   "outputs": [],
   "source": [
    "from sklearn.model_selection import train_test_split"
   ]
  },
  {
   "cell_type": "code",
   "execution_count": 22,
   "metadata": {
    "scrolled": true
   },
   "outputs": [
    {
     "data": {
      "text/html": [
       "<div>\n",
       "<style scoped>\n",
       "    .dataframe tbody tr th:only-of-type {\n",
       "        vertical-align: middle;\n",
       "    }\n",
       "\n",
       "    .dataframe tbody tr th {\n",
       "        vertical-align: top;\n",
       "    }\n",
       "\n",
       "    .dataframe thead th {\n",
       "        text-align: right;\n",
       "    }\n",
       "</style>\n",
       "<table border=\"1\" class=\"dataframe\">\n",
       "  <thead>\n",
       "    <tr style=\"text-align: right;\">\n",
       "      <th></th>\n",
       "      <th>Logic Test Score %</th>\n",
       "      <th>Science_A</th>\n",
       "      <th>Aptitude Score</th>\n",
       "      <th>qualification_Matriculant</th>\n",
       "      <th>qualification_Post Graduate</th>\n",
       "      <th>Interview Score</th>\n",
       "      <th>Xhosa_C</th>\n",
       "      <th>Maths_F</th>\n",
       "      <th>programming_None</th>\n",
       "      <th>Afrikaans_B</th>\n",
       "      <th>Maths_A</th>\n",
       "    </tr>\n",
       "    <tr>\n",
       "      <th>id</th>\n",
       "      <th></th>\n",
       "      <th></th>\n",
       "      <th></th>\n",
       "      <th></th>\n",
       "      <th></th>\n",
       "      <th></th>\n",
       "      <th></th>\n",
       "      <th></th>\n",
       "      <th></th>\n",
       "      <th></th>\n",
       "      <th></th>\n",
       "    </tr>\n",
       "  </thead>\n",
       "  <tbody>\n",
       "    <tr>\n",
       "      <th>1</th>\n",
       "      <td>0.89</td>\n",
       "      <td>0</td>\n",
       "      <td>0.80</td>\n",
       "      <td>0</td>\n",
       "      <td>0</td>\n",
       "      <td>8.0</td>\n",
       "      <td>0</td>\n",
       "      <td>0</td>\n",
       "      <td>0</td>\n",
       "      <td>0</td>\n",
       "      <td>0</td>\n",
       "    </tr>\n",
       "    <tr>\n",
       "      <th>2</th>\n",
       "      <td>0.80</td>\n",
       "      <td>0</td>\n",
       "      <td>0.77</td>\n",
       "      <td>0</td>\n",
       "      <td>0</td>\n",
       "      <td>8.0</td>\n",
       "      <td>0</td>\n",
       "      <td>0</td>\n",
       "      <td>1</td>\n",
       "      <td>0</td>\n",
       "      <td>0</td>\n",
       "    </tr>\n",
       "    <tr>\n",
       "      <th>3</th>\n",
       "      <td>0.75</td>\n",
       "      <td>0</td>\n",
       "      <td>0.87</td>\n",
       "      <td>0</td>\n",
       "      <td>0</td>\n",
       "      <td>10.0</td>\n",
       "      <td>0</td>\n",
       "      <td>0</td>\n",
       "      <td>0</td>\n",
       "      <td>0</td>\n",
       "      <td>1</td>\n",
       "    </tr>\n",
       "    <tr>\n",
       "      <th>4</th>\n",
       "      <td>0.90</td>\n",
       "      <td>1</td>\n",
       "      <td>0.73</td>\n",
       "      <td>0</td>\n",
       "      <td>1</td>\n",
       "      <td>8.0</td>\n",
       "      <td>0</td>\n",
       "      <td>0</td>\n",
       "      <td>0</td>\n",
       "      <td>0</td>\n",
       "      <td>1</td>\n",
       "    </tr>\n",
       "    <tr>\n",
       "      <th>5</th>\n",
       "      <td>0.61</td>\n",
       "      <td>0</td>\n",
       "      <td>0.75</td>\n",
       "      <td>1</td>\n",
       "      <td>0</td>\n",
       "      <td>6.0</td>\n",
       "      <td>0</td>\n",
       "      <td>0</td>\n",
       "      <td>1</td>\n",
       "      <td>0</td>\n",
       "      <td>1</td>\n",
       "    </tr>\n",
       "  </tbody>\n",
       "</table>\n",
       "</div>"
      ],
      "text/plain": [
       "    Logic Test Score %  Science_A  Aptitude Score  qualification_Matriculant  \\\n",
       "id                                                                             \n",
       "1                 0.89          0            0.80                          0   \n",
       "2                 0.80          0            0.77                          0   \n",
       "3                 0.75          0            0.87                          0   \n",
       "4                 0.90          1            0.73                          0   \n",
       "5                 0.61          0            0.75                          1   \n",
       "\n",
       "    qualification_Post Graduate  Interview Score  Xhosa_C  Maths_F  \\\n",
       "id                                                                   \n",
       "1                             0              8.0        0        0   \n",
       "2                             0              8.0        0        0   \n",
       "3                             0             10.0        0        0   \n",
       "4                             1              8.0        0        0   \n",
       "5                             0              6.0        0        0   \n",
       "\n",
       "    programming_None  Afrikaans_B  Maths_A  \n",
       "id                                          \n",
       "1                  0            0        0  \n",
       "2                  1            0        0  \n",
       "3                  0            0        1  \n",
       "4                  0            0        1  \n",
       "5                  1            0        1  "
      ]
     },
     "execution_count": 22,
     "metadata": {},
     "output_type": "execute_result"
    }
   ],
   "source": [
    "X.head()"
   ]
  },
  {
   "cell_type": "code",
   "execution_count": 23,
   "metadata": {},
   "outputs": [
    {
     "data": {
      "text/html": [
       "<div>\n",
       "<style scoped>\n",
       "    .dataframe tbody tr th:only-of-type {\n",
       "        vertical-align: middle;\n",
       "    }\n",
       "\n",
       "    .dataframe tbody tr th {\n",
       "        vertical-align: top;\n",
       "    }\n",
       "\n",
       "    .dataframe thead th {\n",
       "        text-align: right;\n",
       "    }\n",
       "</style>\n",
       "<table border=\"1\" class=\"dataframe\">\n",
       "  <thead>\n",
       "    <tr style=\"text-align: right;\">\n",
       "      <th></th>\n",
       "      <th>Science_A</th>\n",
       "      <th>Maths_A</th>\n",
       "      <th>Maths_F</th>\n",
       "    </tr>\n",
       "    <tr>\n",
       "      <th>id</th>\n",
       "      <th></th>\n",
       "      <th></th>\n",
       "      <th></th>\n",
       "    </tr>\n",
       "  </thead>\n",
       "  <tbody>\n",
       "    <tr>\n",
       "      <th>1</th>\n",
       "      <td>0</td>\n",
       "      <td>0</td>\n",
       "      <td>0</td>\n",
       "    </tr>\n",
       "    <tr>\n",
       "      <th>2</th>\n",
       "      <td>0</td>\n",
       "      <td>0</td>\n",
       "      <td>0</td>\n",
       "    </tr>\n",
       "    <tr>\n",
       "      <th>3</th>\n",
       "      <td>0</td>\n",
       "      <td>1</td>\n",
       "      <td>0</td>\n",
       "    </tr>\n",
       "    <tr>\n",
       "      <th>4</th>\n",
       "      <td>1</td>\n",
       "      <td>1</td>\n",
       "      <td>0</td>\n",
       "    </tr>\n",
       "    <tr>\n",
       "      <th>5</th>\n",
       "      <td>0</td>\n",
       "      <td>1</td>\n",
       "      <td>0</td>\n",
       "    </tr>\n",
       "  </tbody>\n",
       "</table>\n",
       "</div>"
      ],
      "text/plain": [
       "    Science_A  Maths_A  Maths_F\n",
       "id                             \n",
       "1           0        0        0\n",
       "2           0        0        0\n",
       "3           0        1        0\n",
       "4           1        1        0\n",
       "5           0        1        0"
      ]
     },
     "execution_count": 23,
     "metadata": {},
     "output_type": "execute_result"
    }
   ],
   "source": [
    "df[['Science_A','Maths_A', 'Maths_F']].head()"
   ]
  },
  {
   "cell_type": "markdown",
   "metadata": {},
   "source": [
    "# Matric Results"
   ]
  },
  {
   "cell_type": "code",
   "execution_count": 24,
   "metadata": {},
   "outputs": [],
   "source": [
    "#LOGIC TEST MODEL\n",
    "y_matric = df['score']\n",
    "X_matric = df[['Science_A','Maths_A', 'Maths_F']]\n",
    "\n",
    "#Train/test data\n",
    "X_matric_train, X_matric_test, y_matric_train, y_matric_test = train_test_split(X_matric, y_matric, test_size = 0.2,random_state = 100)\n",
    "\n",
    "#train\n",
    "from sklearn.linear_model import LinearRegression\n",
    "lm_matric = LinearRegression()"
   ]
  },
  {
   "cell_type": "code",
   "execution_count": 25,
   "metadata": {
    "scrolled": true
   },
   "outputs": [
    {
     "data": {
      "text/plain": [
       "LinearRegression(copy_X=True, fit_intercept=True, n_jobs=None,\n",
       "         normalize=False)"
      ]
     },
     "execution_count": 25,
     "metadata": {},
     "output_type": "execute_result"
    }
   ],
   "source": [
    "lm_matric.fit(X_matric, y_matric)"
   ]
  },
  {
   "cell_type": "code",
   "execution_count": 26,
   "metadata": {},
   "outputs": [
    {
     "data": {
      "text/plain": [
       "603.3497314293201"
      ]
     },
     "execution_count": 26,
     "metadata": {},
     "output_type": "execute_result"
    }
   ],
   "source": [
    "lm_matric.intercept_"
   ]
  },
  {
   "cell_type": "code",
   "execution_count": 27,
   "metadata": {},
   "outputs": [
    {
     "data": {
      "text/plain": [
       "array([  81.61718852,    5.49063278, -114.34973143])"
      ]
     },
     "execution_count": 27,
     "metadata": {},
     "output_type": "execute_result"
    }
   ],
   "source": [
    "lm_matric.coef_"
   ]
  },
  {
   "cell_type": "markdown",
   "metadata": {},
   "source": [
    "# PAST PERFORMANCE MODEL"
   ]
  },
  {
   "cell_type": "code",
   "execution_count": 28,
   "metadata": {},
   "outputs": [],
   "source": [
    "#APTITUDE TEST MODEL\n",
    "y_past = df['score']\n",
    "X_past = df[['Logic Test Score %','Aptitude Score', 'Interview Score']]\n",
    "\n",
    "#train/test data\n",
    "X_past_train, X_past_test, y_past_train, y_past_test = train_test_split(X_past, y_past, test_size = 0.2, random_state = 100)"
   ]
  },
  {
   "cell_type": "code",
   "execution_count": 29,
   "metadata": {},
   "outputs": [],
   "source": [
    "from sklearn.linear_model import LinearRegression"
   ]
  },
  {
   "cell_type": "code",
   "execution_count": 30,
   "metadata": {},
   "outputs": [],
   "source": [
    "lm_past = LinearRegression()"
   ]
  },
  {
   "cell_type": "code",
   "execution_count": 31,
   "metadata": {
    "scrolled": true
   },
   "outputs": [
    {
     "data": {
      "text/plain": [
       "LinearRegression(copy_X=True, fit_intercept=True, n_jobs=None,\n",
       "         normalize=False)"
      ]
     },
     "execution_count": 31,
     "metadata": {},
     "output_type": "execute_result"
    }
   ],
   "source": [
    "lm_past.fit(X_past, y_past)"
   ]
  },
  {
   "cell_type": "code",
   "execution_count": 32,
   "metadata": {},
   "outputs": [
    {
     "data": {
      "text/plain": [
       "140.08221523407235"
      ]
     },
     "execution_count": 32,
     "metadata": {},
     "output_type": "execute_result"
    }
   ],
   "source": [
    "lm_past.intercept_"
   ]
  },
  {
   "cell_type": "code",
   "execution_count": 33,
   "metadata": {},
   "outputs": [
    {
     "data": {
      "text/plain": [
       "array([206.64686447, 182.11001525,  22.82696902])"
      ]
     },
     "execution_count": 33,
     "metadata": {},
     "output_type": "execute_result"
    }
   ],
   "source": [
    "lm_past.coef_"
   ]
  },
  {
   "cell_type": "markdown",
   "metadata": {},
   "source": [
    "# INFO"
   ]
  },
  {
   "cell_type": "code",
   "execution_count": 34,
   "metadata": {},
   "outputs": [],
   "source": [
    "#INFORMATION  MODEL \n",
    "y_info = df['score']\n",
    "X_info = df[['qualification_Matriculant','qualification_Post Graduate','programming_None']]\n",
    "#Train and test data split\n",
    "X_info_train, X_info_test, y_info_train, y_info_test = train_test_split(X_info, y_info, test_size = 0.2, random_state = 100)"
   ]
  },
  {
   "cell_type": "code",
   "execution_count": 35,
   "metadata": {},
   "outputs": [],
   "source": [
    "lm_info = LinearRegression()"
   ]
  },
  {
   "cell_type": "code",
   "execution_count": 36,
   "metadata": {},
   "outputs": [
    {
     "data": {
      "text/plain": [
       "LinearRegression(copy_X=True, fit_intercept=True, n_jobs=None,\n",
       "         normalize=False)"
      ]
     },
     "execution_count": 36,
     "metadata": {},
     "output_type": "execute_result"
    }
   ],
   "source": [
    "lm_info.fit(X_info_train, y_info_train)"
   ]
  },
  {
   "cell_type": "code",
   "execution_count": 37,
   "metadata": {},
   "outputs": [
    {
     "data": {
      "text/plain": [
       "633.7419446460693"
      ]
     },
     "execution_count": 37,
     "metadata": {},
     "output_type": "execute_result"
    }
   ],
   "source": [
    "lm_info.intercept_"
   ]
  },
  {
   "cell_type": "code",
   "execution_count": 38,
   "metadata": {},
   "outputs": [
    {
     "data": {
      "text/plain": [
       "array([-36.89665715,  54.36584798, -34.28026083])"
      ]
     },
     "execution_count": 38,
     "metadata": {},
     "output_type": "execute_result"
    }
   ],
   "source": [
    "lm_info.coef_"
   ]
  },
  {
   "cell_type": "markdown",
   "metadata": {},
   "source": [
    "# FULL MODEL"
   ]
  },
  {
   "cell_type": "code",
   "execution_count": 39,
   "metadata": {},
   "outputs": [],
   "source": [
    "#FULL MODEL\n",
    "y_all = df['score']\n",
    "X_all = df[['Logic Test Score %','Aptitude Score', 'Interview Score','Science_A','Maths_A', 'Maths_F','qualification_Matriculant','qualification_Post Graduate','programming_None']]"
   ]
  },
  {
   "cell_type": "code",
   "execution_count": 40,
   "metadata": {},
   "outputs": [],
   "source": [
    "#FULL MODEL\n",
    "X_train_all, X_test_all, y_train, y_test = train_test_split(X_all, y_all, test_size=0.2, random_state=100)"
   ]
  },
  {
   "cell_type": "code",
   "execution_count": 41,
   "metadata": {},
   "outputs": [],
   "source": [
    "#After splitting the data, now we train the model\n",
    "from sklearn.linear_model import LinearRegression\n",
    "lm_all = LinearRegression()   #creatig the instance of the Linear Regression object so we'll apply methods on it."
   ]
  },
  {
   "cell_type": "code",
   "execution_count": 42,
   "metadata": {},
   "outputs": [
    {
     "data": {
      "text/plain": [
       "LinearRegression(copy_X=True, fit_intercept=True, n_jobs=None,\n",
       "         normalize=False)"
      ]
     },
     "execution_count": 42,
     "metadata": {},
     "output_type": "execute_result"
    }
   ],
   "source": [
    "#now we train the model by fitting the train data\n",
    "lm_all.fit(X_train_all, y_train)"
   ]
  },
  {
   "cell_type": "code",
   "execution_count": 43,
   "metadata": {},
   "outputs": [
    {
     "data": {
      "text/plain": [
       "250.74646859797411"
      ]
     },
     "execution_count": 43,
     "metadata": {},
     "output_type": "execute_result"
    }
   ],
   "source": [
    "lm_all.intercept_    #or alpha in the formula,this is the expected score if all the feature values are zero"
   ]
  },
  {
   "cell_type": "code",
   "execution_count": 44,
   "metadata": {},
   "outputs": [
    {
     "data": {
      "text/plain": [
       "array([178.00832578, 131.06287947,  17.28407104,  33.65913286,\n",
       "         8.45296755, -49.65624739, -29.86025033,  41.46136506,\n",
       "       -19.26837516])"
      ]
     },
     "execution_count": 44,
     "metadata": {},
     "output_type": "execute_result"
    }
   ],
   "source": [
    "lm_all.coef_ #the sign of the coefficients tell us about the proportionality between the label and the score, if the coef IS -VE there is an inverse prop. relationship\n",
    "#the coeff is the value the score will increase by if the feature increases by 1"
   ]
  },
  {
   "cell_type": "code",
   "execution_count": 45,
   "metadata": {},
   "outputs": [],
   "source": [
    "#No we look at how good the model fits to the training and tetsing data, we look at the mean square error and R square for the data to assess the goodness of fit.\n",
    "#The average of squared error(MSE)(for actual vs predicted)`"
   ]
  },
  {
   "cell_type": "code",
   "execution_count": 46,
   "metadata": {},
   "outputs": [
    {
     "data": {
      "text/plain": [
       "Index(['Logic Test Score %', 'Aptitude Score', 'Interview Score', 'Science_A',\n",
       "       'Maths_A', 'Maths_F', 'qualification_Matriculant',\n",
       "       'qualification_Post Graduate', 'programming_None'],\n",
       "      dtype='object')"
      ]
     },
     "execution_count": 46,
     "metadata": {},
     "output_type": "execute_result"
    }
   ],
   "source": [
    "X_all.columns\n"
   ]
  },
  {
   "cell_type": "code",
   "execution_count": 47,
   "metadata": {},
   "outputs": [
    {
     "data": {
      "text/html": [
       "<div>\n",
       "<style scoped>\n",
       "    .dataframe tbody tr th:only-of-type {\n",
       "        vertical-align: middle;\n",
       "    }\n",
       "\n",
       "    .dataframe tbody tr th {\n",
       "        vertical-align: top;\n",
       "    }\n",
       "\n",
       "    .dataframe thead th {\n",
       "        text-align: right;\n",
       "    }\n",
       "</style>\n",
       "<table border=\"1\" class=\"dataframe\">\n",
       "  <thead>\n",
       "    <tr style=\"text-align: right;\">\n",
       "      <th></th>\n",
       "      <th>Coefficient</th>\n",
       "    </tr>\n",
       "  </thead>\n",
       "  <tbody>\n",
       "    <tr>\n",
       "      <th>Logic Test Score %</th>\n",
       "      <td>178.008326</td>\n",
       "    </tr>\n",
       "    <tr>\n",
       "      <th>Aptitude Score</th>\n",
       "      <td>131.062879</td>\n",
       "    </tr>\n",
       "    <tr>\n",
       "      <th>Interview Score</th>\n",
       "      <td>17.284071</td>\n",
       "    </tr>\n",
       "    <tr>\n",
       "      <th>Science_A</th>\n",
       "      <td>33.659133</td>\n",
       "    </tr>\n",
       "    <tr>\n",
       "      <th>Maths_A</th>\n",
       "      <td>8.452968</td>\n",
       "    </tr>\n",
       "    <tr>\n",
       "      <th>Maths_F</th>\n",
       "      <td>-49.656247</td>\n",
       "    </tr>\n",
       "    <tr>\n",
       "      <th>qualification_Matriculant</th>\n",
       "      <td>-29.860250</td>\n",
       "    </tr>\n",
       "    <tr>\n",
       "      <th>qualification_Post Graduate</th>\n",
       "      <td>41.461365</td>\n",
       "    </tr>\n",
       "    <tr>\n",
       "      <th>programming_None</th>\n",
       "      <td>-19.268375</td>\n",
       "    </tr>\n",
       "  </tbody>\n",
       "</table>\n",
       "</div>"
      ],
      "text/plain": [
       "                             Coefficient\n",
       "Logic Test Score %            178.008326\n",
       "Aptitude Score                131.062879\n",
       "Interview Score                17.284071\n",
       "Science_A                      33.659133\n",
       "Maths_A                         8.452968\n",
       "Maths_F                       -49.656247\n",
       "qualification_Matriculant     -29.860250\n",
       "qualification_Post Graduate    41.461365\n",
       "programming_None              -19.268375"
      ]
     },
     "execution_count": 47,
     "metadata": {},
     "output_type": "execute_result"
    }
   ],
   "source": [
    "#Since there are many features we should put them into a df so we'll know which coefficient corresponds with which feature name\n",
    "coeff_df = pd.DataFrame(lm_all.coef_,X_all.columns.values, columns = ['Coefficient'])\n",
    "coeff_df"
   ]
  },
  {
   "cell_type": "markdown",
   "metadata": {},
   "source": [
    "# Now that we have estimated all the parameters, let's look at how good the fit is to both the training and testing data. We will look at the mean squared error (MSE) and R squared for the data to assess the goodness of fit."
   ]
  },
  {
   "cell_type": "code",
   "execution_count": 48,
   "metadata": {},
   "outputs": [],
   "source": [
    "#PREDICT(Trainig data)\n",
    "#first import the metrics module sklearn\n",
    "from sklearn import metrics"
   ]
  },
  {
   "cell_type": "code",
   "execution_count": 49,
   "metadata": {},
   "outputs": [],
   "source": [
    "#IGNORE THE BELOW PLOTS(EXCEPT THE RELATIONSHIP BETWEEN THE ACTUAL AND PREDICTED VALUES), THEY WONT WORK BECAUSE OF THE MANY FEATURES THE MODEL HAS"
   ]
  },
  {
   "cell_type": "markdown",
   "metadata": {},
   "source": [
    "# PLOTTING THE MATRIC RESULTS MODEL"
   ]
  },
  {
   "cell_type": "code",
   "execution_count": 50,
   "metadata": {},
   "outputs": [
    {
     "data": {
      "text/plain": [
       "Text(0, 0.5, 'score')"
      ]
     },
     "execution_count": 50,
     "metadata": {},
     "output_type": "execute_result"
    },
    {
     "data": {
      "image/png": "[encoded data removed]",
      "text/plain": [
       "<Figure size 432x288 with 1 Axes>"
      ]
     },
     "metadata": {
      "needs_background": "light"
     },
     "output_type": "display_data"
    }
   ],
   "source": [
    "#regressor/predictions for test data\n",
    "X1 = np.array(X_matric_test)\n",
    "predictor1 = lm_matric.predict(X1)\n",
    "\n",
    "\n",
    "#plotting the test data\n",
    "plt.scatter(lm_matric.predict(X1), y_matric_test[:,None])\n",
    "\n",
    "#plot the regression line\n",
    "plt.plot(X_matric_test[:X_matric_test.shape[0]],predictor1, color = 'red')\n",
    "\n",
    "#label the axis\n",
    "plt.xlabel('Logic Test Score %')\n",
    "plt.ylabel('score')"
   ]
  },
  {
   "cell_type": "code",
   "execution_count": 51,
   "metadata": {},
   "outputs": [
    {
     "name": "stderr",
     "output_type": "stream",
     "text": [
      "C:\\Users\\student-cpt-325\\AppData\\Local\\Continuum\\anaconda3\\lib\\site-packages\\scipy\\stats\\stats.py:1713: FutureWarning: Using a non-tuple sequence for multidimensional indexing is deprecated; use `arr[tuple(seq)]` instead of `arr[seq]`. In the future this will be interpreted as an array index, `arr[np.array(seq)]`, which will result either in an error or a different result.\n",
      "  return np.add.reduce(sorted[indexer] * weights, axis=axis) / sumval\n"
     ]
    },
    {
     "data": {
      "text/plain": [
       "<matplotlib.axes._subplots.AxesSubplot at 0x1c999916f28>"
      ]
     },
     "execution_count": 51,
     "metadata": {},
     "output_type": "execute_result"
    },
    {
     "data": {
      "image/png": "[encoded data removed]",
      "text/plain": [
       "<Figure size 360x360 with 1 Axes>"
      ]
     },
     "metadata": {
      "needs_background": "light"
     },
     "output_type": "display_data"
    }
   ],
   "source": [
    "# Create figure and axes\n",
    "f, ax = plt.subplots(figsize=(5,5))\n",
    "\n",
    "# Plot on axes\n",
    "ax.set_title('Actual vs Predicted')\n",
    "ax.set_xlabel('Actual')\n",
    "ax.set_ylabel('Predicted')\n",
    "ax.set_xlim(0, 1000)\n",
    "ax.set_ylim(0, 1000)\n",
    "\n",
    "sns.regplot(x = y_matric_test, y = predictor1)"
   ]
  },
  {
   "cell_type": "code",
   "execution_count": null,
   "metadata": {},
   "outputs": [],
   "source": []
  },
  {
   "cell_type": "markdown",
   "metadata": {},
   "source": [
    "# PLOTTING THE PAST PERFORMANCE MODEL"
   ]
  },
  {
   "cell_type": "code",
   "execution_count": 52,
   "metadata": {},
   "outputs": [
    {
     "data": {
      "text/plain": [
       "Text(0, 0.5, 'score')"
      ]
     },
     "execution_count": 52,
     "metadata": {},
     "output_type": "execute_result"
    },
    {
     "data": {
      "image/png": "[encoded data removed]",
      "text/plain": [
       "<Figure size 432x288 with 1 Axes>"
      ]
     },
     "metadata": {
      "needs_background": "light"
     },
     "output_type": "display_data"
    }
   ],
   "source": [
    "#regressor/predictions for test data\n",
    "X2 = np.array(X_past_test)\n",
    "predictor_past = lm_past.predict(X2)\n",
    "\n",
    "\n",
    "#plotting the test data\n",
    "plt.scatter(lm_past.predict(X2), y_past_test)\n",
    "\n",
    "#plot the regression line\n",
    "plt.plot(X_past_test,predictor_past, color = 'red')\n",
    "\n",
    "#label the axis\n",
    "plt.xlabel('Aptitude Score %')\n",
    "plt.ylabel('score')"
   ]
  },
  {
   "cell_type": "code",
   "execution_count": 53,
   "metadata": {},
   "outputs": [
    {
     "name": "stderr",
     "output_type": "stream",
     "text": [
      "C:\\Users\\student-cpt-325\\AppData\\Local\\Continuum\\anaconda3\\lib\\site-packages\\scipy\\stats\\stats.py:1713: FutureWarning: Using a non-tuple sequence for multidimensional indexing is deprecated; use `arr[tuple(seq)]` instead of `arr[seq]`. In the future this will be interpreted as an array index, `arr[np.array(seq)]`, which will result either in an error or a different result.\n",
      "  return np.add.reduce(sorted[indexer] * weights, axis=axis) / sumval\n"
     ]
    },
    {
     "data": {
      "text/plain": [
       "<matplotlib.axes._subplots.AxesSubplot at 0x1c999d5f0f0>"
      ]
     },
     "execution_count": 53,
     "metadata": {},
     "output_type": "execute_result"
    },
    {
     "data": {
      "image/png": "[encoded data removed]",
      "text/plain": [
       "<Figure size 360x360 with 1 Axes>"
      ]
     },
     "metadata": {
      "needs_background": "light"
     },
     "output_type": "display_data"
    }
   ],
   "source": [
    "# Create figure and axes\n",
    "f, ax = plt.subplots(figsize=(5,5))\n",
    "\n",
    "# Plot on axes\n",
    "ax.set_title('Actual vs Predicted')\n",
    "ax.set_xlabel('Actual')\n",
    "ax.set_ylabel('Predicted')\n",
    "ax.set_xlim(0, 1000)\n",
    "ax.set_ylim(0, 1000)\n",
    "\n",
    "sns.regplot(x = y_past_test, y = predictor_past)"
   ]
  },
  {
   "cell_type": "markdown",
   "metadata": {},
   "source": [
    "# PLOTTING INFO MODEL"
   ]
  },
  {
   "cell_type": "code",
   "execution_count": 54,
   "metadata": {},
   "outputs": [
    {
     "data": {
      "text/plain": [
       "Text(0, 0.5, 'score')"
      ]
     },
     "execution_count": 54,
     "metadata": {},
     "output_type": "execute_result"
    },
    {
     "data": {
      "image/png": "[encoded data removed]",
      "text/plain": [
       "<Figure size 432x288 with 1 Axes>"
      ]
     },
     "metadata": {
      "needs_background": "light"
     },
     "output_type": "display_data"
    }
   ],
   "source": [
    "### regressor/predictions for test data\n",
    "X3 = np.array(X_info_test)\n",
    "predictor3 = lm_info.predict(X3)\n",
    "\n",
    "\n",
    "#plotting the test data\n",
    "plt.scatter(lm_info.predict(X3), y_info_test)\n",
    "\n",
    "#plot the regression line\n",
    "plt.plot(X_info_test,predictor3, color = 'red')\n",
    "\n",
    "#label the axis\n",
    "plt.xlabel('Information SCore %')\n",
    "plt.ylabel('score')"
   ]
  },
  {
   "cell_type": "code",
   "execution_count": 55,
   "metadata": {},
   "outputs": [
    {
     "name": "stderr",
     "output_type": "stream",
     "text": [
      "C:\\Users\\student-cpt-325\\AppData\\Local\\Continuum\\anaconda3\\lib\\site-packages\\scipy\\stats\\stats.py:1713: FutureWarning: Using a non-tuple sequence for multidimensional indexing is deprecated; use `arr[tuple(seq)]` instead of `arr[seq]`. In the future this will be interpreted as an array index, `arr[np.array(seq)]`, which will result either in an error or a different result.\n",
      "  return np.add.reduce(sorted[indexer] * weights, axis=axis) / sumval\n"
     ]
    },
    {
     "data": {
      "text/plain": [
       "<matplotlib.axes._subplots.AxesSubplot at 0x1c999e40668>"
      ]
     },
     "execution_count": 55,
     "metadata": {},
     "output_type": "execute_result"
    },
    {
     "data": {
      "image/png": "[encoded data removed]",
      "text/plain": [
       "<Figure size 360x360 with 1 Axes>"
      ]
     },
     "metadata": {
      "needs_background": "light"
     },
     "output_type": "display_data"
    }
   ],
   "source": [
    "# Create figure and axes\n",
    "f, ax = plt.subplots(figsize=(5,5))\n",
    "\n",
    "# Plot on axes\n",
    "ax.set_title('Actual vs Predicted')\n",
    "ax.set_xlabel('Actual')\n",
    "ax.set_ylabel('Predicted')\n",
    "ax.set_xlim(0, 1000)\n",
    "ax.set_ylim(0, 1000)\n",
    "\n",
    "sns.regplot(x = y_info_test, y = predictor3)"
   ]
  },
  {
   "cell_type": "markdown",
   "metadata": {},
   "source": [
    "# PLOTTING ALL FEATURES MODEL\n"
   ]
  },
  {
   "cell_type": "code",
   "execution_count": 56,
   "metadata": {},
   "outputs": [
    {
     "data": {
      "text/plain": [
       "Text(0, 0.5, 'score')"
      ]
     },
     "execution_count": 56,
     "metadata": {},
     "output_type": "execute_result"
    },
    {
     "data": {
      "image/png": "[encoded data removed]",
      "text/plain": [
       "<Figure size 432x288 with 1 Axes>"
      ]
     },
     "metadata": {
      "needs_background": "light"
     },
     "output_type": "display_data"
    }
   ],
   "source": [
    "#PLOTTING THE MODEL\n",
    "X_all = np.array(X_test_all)\n",
    "predictor_all = lm_all.predict(X_all)\n",
    "#plotting the test data\n",
    "plt.scatter(lm_all.predict(X_all), y_test)\n",
    "\n",
    "#Plot the regression line\n",
    "\n",
    "plt.plot(X_all,predictor_all, color = 'red')\n",
    "#label axis\n",
    "plt.xlabel('features')\n",
    "plt.ylabel('score')\n"
   ]
  },
  {
   "cell_type": "code",
   "execution_count": 57,
   "metadata": {},
   "outputs": [
    {
     "data": {
      "text/plain": [
       "array([597.3941097 , 567.06744177, 526.86732114, 615.19945414,\n",
       "       554.31779902, 658.49751144, 610.86751916, 559.18280505,\n",
       "       605.14532284, 531.12038148, 663.51507745, 671.58030918,\n",
       "       632.21473927, 499.39142352, 621.41623408, 607.21181577,\n",
       "       505.77991379, 631.25096086, 739.41159577, 619.47353393])"
      ]
     },
     "execution_count": 57,
     "metadata": {},
     "output_type": "execute_result"
    }
   ],
   "source": [
    "predictor_all"
   ]
  },
  {
   "cell_type": "code",
   "execution_count": 58,
   "metadata": {},
   "outputs": [
    {
     "data": {
      "text/plain": [
       "[<matplotlib.lines.Line2D at 0x1c999f475f8>]"
      ]
     },
     "execution_count": 58,
     "metadata": {},
     "output_type": "execute_result"
    },
    {
     "data": {
      "image/png": "[encoded data removed]",
      "text/plain": [
       "<Figure size 432x288 with 1 Axes>"
      ]
     },
     "metadata": {
      "needs_background": "light"
     },
     "output_type": "display_data"
    }
   ],
   "source": [
    "plt.plot(predictor_all, data = X_test_all, color = 'red')"
   ]
  },
  {
   "cell_type": "code",
   "execution_count": 59,
   "metadata": {},
   "outputs": [
    {
     "name": "stderr",
     "output_type": "stream",
     "text": [
      "C:\\Users\\student-cpt-325\\AppData\\Local\\Continuum\\anaconda3\\lib\\site-packages\\scipy\\stats\\stats.py:1713: FutureWarning: Using a non-tuple sequence for multidimensional indexing is deprecated; use `arr[tuple(seq)]` instead of `arr[seq]`. In the future this will be interpreted as an array index, `arr[np.array(seq)]`, which will result either in an error or a different result.\n",
      "  return np.add.reduce(sorted[indexer] * weights, axis=axis) / sumval\n"
     ]
    },
    {
     "data": {
      "text/plain": [
       "<matplotlib.axes._subplots.AxesSubplot at 0x1c999f6d198>"
      ]
     },
     "execution_count": 59,
     "metadata": {},
     "output_type": "execute_result"
    },
    {
     "data": {
      "image/png": "[encoded data removed]",
      "text/plain": [
       "<Figure size 360x360 with 1 Axes>"
      ]
     },
     "metadata": {
      "needs_background": "light"
     },
     "output_type": "display_data"
    }
   ],
   "source": [
    "# Create figure and axes\n",
    "f, ax = plt.subplots(figsize=(5,5))\n",
    "\n",
    "# Plot on axes\n",
    "ax.set_title('Actual vs Predicted')\n",
    "ax.set_xlabel('Actual')\n",
    "ax.set_ylabel('Predicted')\n",
    "ax.set_xlim(0, 1000)\n",
    "ax.set_ylim(0, 1000)\n",
    "\n",
    "sns.regplot(x = y_test, y = predictor_all)"
   ]
  },
  {
   "cell_type": "code",
   "execution_count": null,
   "metadata": {},
   "outputs": [],
   "source": []
  },
  {
   "cell_type": "code",
   "execution_count": 60,
   "metadata": {},
   "outputs": [
    {
     "data": {
      "text/plain": [
       "(id\n",
       " 83    697\n",
       " 75    687\n",
       " 27    474\n",
       " 30    662\n",
       " 44    492\n",
       " 94    733\n",
       " 36    635\n",
       " 45    557\n",
       " 23    624\n",
       " 63    483\n",
       " 6     567\n",
       " 33    640\n",
       " 12    658\n",
       " 82    526\n",
       " 29    663\n",
       " 93    699\n",
       " 37    392\n",
       " 76    678\n",
       " 85    707\n",
       " 84    625\n",
       " Name: score, dtype: int64,\n",
       " array([597.3941097 , 567.06744177, 526.86732114, 615.19945414,\n",
       "        554.31779902, 658.49751144, 610.86751916, 559.18280505,\n",
       "        605.14532284, 531.12038148, 663.51507745, 671.58030918,\n",
       "        632.21473927, 499.39142352, 621.41623408, 607.21181577,\n",
       "        505.77991379, 631.25096086, 739.41159577, 619.47353393]))"
      ]
     },
     "execution_count": 60,
     "metadata": {},
     "output_type": "execute_result"
    }
   ],
   "source": [
    "y_test,predictor_all"
   ]
  },
  {
   "cell_type": "code",
   "execution_count": 61,
   "metadata": {
    "scrolled": true
   },
   "outputs": [
    {
     "ename": "NameError",
     "evalue": "name 'y_testy_test' is not defined",
     "output_type": "error",
     "traceback": [
      "\u001b[1;31m---------------------------------------------------------------------------\u001b[0m",
      "\u001b[1;31mNameError\u001b[0m                                 Traceback (most recent call last)",
      "\u001b[1;32m<ipython-input-61-0996896d1d3a>\u001b[0m in \u001b[0;36m<module>\u001b[1;34m\u001b[0m\n\u001b[1;32m----> 1\u001b[1;33m \u001b[0my_testy_test\u001b[0m\u001b[1;33m.\u001b[0m\u001b[0mshape\u001b[0m\u001b[1;33m[\u001b[0m\u001b[1;36m0\u001b[0m\u001b[1;33m]\u001b[0m\u001b[1;33m\u001b[0m\u001b[1;33m\u001b[0m\u001b[0m\n\u001b[0m",
      "\u001b[1;31mNameError\u001b[0m: name 'y_testy_test' is not defined"
     ]
    }
   ],
   "source": [
    "y_testy_test.shape[0]"
   ]
  },
  {
   "cell_type": "code",
   "execution_count": null,
   "metadata": {
    "scrolled": true
   },
   "outputs": [],
   "source": [
    "(y_test, predictions_all, predictor1, predictor2, predictor3)"
   ]
  },
  {
   "cell_type": "code",
   "execution_count": null,
   "metadata": {},
   "outputs": [],
   "source": [
    "pd.merge(pd.DataFrame(y_test),pd.DataFrame(predictions_all)"
   ]
  },
  {
   "cell_type": "code",
   "execution_count": null,
   "metadata": {},
   "outputs": [],
   "source": [
    "pd.DataFrame(predictions_all)"
   ]
  },
  {
   "cell_type": "code",
   "execution_count": null,
   "metadata": {},
   "outputs": [],
   "source": [
    "df1 = pd.merge(pd.DataFrame(predictor1),pd.DataFrame(predictor2),left_index=True,right_index=True)\n",
    "df1.rename(columns = {'0_x':'predictions_matric','0_y':'predictions_past'},inplace = True)\n",
    "df1.head()"
   ]
  },
  {
   "cell_type": "code",
   "execution_count": null,
   "metadata": {},
   "outputs": [],
   "source": [
    "df2 =pd.merge(pd.DataFrame(predictions_all),pd.DataFrame(predictor3), left_index = True, right_index = True)\n",
    "df2.rename(columns = {'0_x':'predictions_all', '0_y':'predictions_info'},inplace = True)\n",
    "df2.head()"
   ]
  },
  {
   "cell_type": "code",
   "execution_count": null,
   "metadata": {},
   "outputs": [],
   "source": [
    "predictions = pd.merge(df1, df2, left_index= True, right_index = True)\n",
    "predictions.to_csv('Predictions.csv')"
   ]
  },
  {
   "cell_type": "code",
   "execution_count": null,
   "metadata": {},
   "outputs": [],
   "source": [
    "score = pd.DataFrame(y_test)\n",
    "score.to_csv('score.csv')"
   ]
  },
  {
   "cell_type": "markdown",
   "metadata": {},
   "source": [
    "# MSE TRAIN TABLE"
   ]
  },
  {
   "cell_type": "code",
   "execution_count": null,
   "metadata": {},
   "outputs": [],
   "source": [
    "# Calculate MSE\n",
    "full_mse  = metrics.mean_squared_error(y_train, lm_all.predict(X_train_all))\n",
    "matric_mse    = metrics.mean_squared_error(y_matric_train, lm_matric.predict(X_matric_train))\n",
    "past_mse = metrics.mean_squared_error(y_past_train, lm_matric.predict(X_past_train))\n",
    "info_mse  = metrics.mean_squared_error(y_info_train, lm_info.predict(X_info_train))\n",
    "\n",
    "# Create list of MSE's\n",
    "mse_train  = [full_mse, matric_mse, matric_mse, info_mse]\n",
    "\n",
    "# Turn list into Dataframe\n",
    "a = pd.DataFrame(mse_train,\n",
    "             index   = ['Full', 'Matric Results', 'Past Performance', 'Info'],\n",
    "             columns = ['MSE Train'])"
   ]
  },
  {
   "cell_type": "code",
   "execution_count": null,
   "metadata": {},
   "outputs": [],
   "source": [
    "a.to_csv('MSE TRAIN TABLE.csv')"
   ]
  },
  {
   "cell_type": "markdown",
   "metadata": {},
   "source": [
    "# MSE TEST TABLE"
   ]
  },
  {
   "cell_type": "code",
   "execution_count": null,
   "metadata": {},
   "outputs": [],
   "source": [
    "# Calculate MSE\n",
    "full_mse  = metrics.mean_squared_error(y_test, predictions_all)\n",
    "matric_mse    = metrics.mean_squared_error(y_test, predictor1)\n",
    "past_mse = metrics.mean_squared_error(y_test, predictor2)\n",
    "info_mse  = metrics.mean_squared_error(y_test, predictor3)\n",
    "\n",
    "# Create list of MSE's\n",
    "mse_test  = [full_mse, matric_mse, past_mse, info_mse]\n",
    "\n",
    "# Turn list into Dataframe\n",
    "b = pd.DataFrame(mse_test,\n",
    "             index   = ['Full', 'Matric Results', 'Past Performance', 'Info'],\n",
    "             columns = ['MSE Test'])"
   ]
  },
  {
   "cell_type": "code",
   "execution_count": null,
   "metadata": {},
   "outputs": [],
   "source": [
    "b.to_csv('MSE TEST TABLE.csv')"
   ]
  },
  {
   "cell_type": "markdown",
   "metadata": {},
   "source": [
    "# R TRAIN TABLE"
   ]
  },
  {
   "cell_type": "code",
   "execution_count": null,
   "metadata": {},
   "outputs": [],
   "source": [
    "full_r2  = lm_all.score(X_train_all, y_train)\n",
    "matric_r2    = lm_matric.score(X_matric_train, y_train)\n",
    "past_r2 = lm_past.score(X_past_train, y_train)\n",
    "info_r2  = lm_info.score(X_info_train, y_train)\n",
    "\n",
    "r2_train  = [full_r2, matric_r2, past_r2, info_r2]\n",
    "\n",
    "c = pd.DataFrame(r2_train,index   = ['Full', 'Matric Results', 'Past Performance', 'Info'],columns = ['R Squared Train'] )"
   ]
  },
  {
   "cell_type": "code",
   "execution_count": null,
   "metadata": {},
   "outputs": [],
   "source": [
    "c.to_csv('R TRAIN TABLE.csv')"
   ]
  },
  {
   "cell_type": "markdown",
   "metadata": {},
   "source": [
    "# R TEST TABLE"
   ]
  },
  {
   "cell_type": "code",
   "execution_count": null,
   "metadata": {},
   "outputs": [],
   "source": [
    "\n",
    "full_r2  = lm_all.score(X_test_all, y_test)\n",
    "matric_r2    = lm_matric.score(X_matric_test, y_test)\n",
    "past_r2 = lm_past.score(X_past_test, y_test)\n",
    "info_r2  = lm_info.score(X_info_test, y_test)\n",
    "\n",
    "r2_test  = [full_r2, matric_r2, past_r2, info_r2]\n",
    "\n",
    "d = pd.DataFrame(r2_test,index   = ['Full', 'Matric Results', 'Past Performance', 'Info'],columns = ['R Squared Test'] )"
   ]
  },
  {
   "cell_type": "code",
   "execution_count": null,
   "metadata": {},
   "outputs": [],
   "source": [
    "lm_all.score(X_test_all, y_test)"
   ]
  },
  {
   "cell_type": "code",
   "execution_count": null,
   "metadata": {},
   "outputs": [],
   "source": [
    "d.to_csv('R TEST TABLE.csv')"
   ]
  },
  {
   "cell_type": "code",
   "execution_count": null,
   "metadata": {},
   "outputs": [],
   "source": [
    "df[['Logic Test Score %', 'Aptitude Score', 'Interview Score', 'Science_A','Maths_A', 'Maths_F', 'qualification_Matriculant','qualification_Post Graduate', 'programming_None']]"
   ]
  },
  {
   "cell_type": "code",
   "execution_count": null,
   "metadata": {},
   "outputs": [],
   "source": [
    "lm_all"
   ]
  }
 ],
 "metadata": {
  "kernelspec": {
   "display_name": "Python 3",
   "language": "python",
   "name": "python3"
  },
  "language_info": {
   "codemirror_mode": {
    "name": "ipython",
    "version": 3
   },
   "file_extension": ".py",
   "mimetype": "text/x-python",
   "name": "python",
   "nbconvert_exporter": "python",
   "pygments_lexer": "ipython3",
   "version": "3.7.1"
  }
 },
 "nbformat": 4,
 "nbformat_minor": 2
}
